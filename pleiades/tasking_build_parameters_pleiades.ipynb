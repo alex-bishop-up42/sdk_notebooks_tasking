{
 "cells": [
  {
   "cell_type": "markdown",
   "id": "24b62939-c6b0-407e-83d9-2e9fc2cde304",
   "metadata": {},
   "source": [
    "# Tasking Pleiades - build tasking parameters and place an order"
   ]
  },
  {
   "cell_type": "markdown",
   "id": "b671eab4-5e89-4a21-8bdf-fddfe682e762",
   "metadata": {},
   "source": [
    "This notebook proposes a method for building tasking parameters needed for placing a Pleiades tasking order. A similar approach can be used with other collections, the only variation would be around the number required parameters.\n",
    "\n",
    "To place a tasking order we need to provide tasking parameters in the form of a json file. Here we will build a tasking parameters json file using the product schema as our foundation.\n"
   ]
  },
  {
   "cell_type": "code",
   "execution_count": 1,
   "id": "3900d6a6-a7a0-4ef8-be4f-ab1350b7f270",
   "metadata": {},
   "outputs": [],
   "source": [
    "import up42\n",
    "from pathlib import Path\n",
    "import json"
   ]
  },
  {
   "cell_type": "markdown",
   "id": "e8eaa471-d8c9-401d-bcb8-b19a051b26d4",
   "metadata": {},
   "source": [
    "## Authenticate"
   ]
  },
  {
   "cell_type": "markdown",
   "id": "b3df3f60-d222-49f9-9e98-7325230984a7",
   "metadata": {},
   "source": [
    "Each API call is made at a project level. To find project credentials go to Projects and select an existing project or create a new one.\n",
    "\n",
    "Go to the Developers tab in the project and copy the values of Project API Key and Project ID.\n",
    "\n",
    "Don't share your credentials with others. They allow anyone to access your project and consume the UP42 credits associated with your account. If your credentials were compromised, generate a new API key. If needed more info can be found on our documentations page.\n",
    "\n",
    "Past these credentials into './proj_conf_file.json' located in this directory. "
   ]
  },
  {
   "cell_type": "code",
   "execution_count": 2,
   "id": "10484cee-9f54-423b-86ca-6cfd19e34a3f",
   "metadata": {},
   "outputs": [
    {
     "name": "stderr",
     "output_type": "stream",
     "text": [
      "2023-05-10 20:36:17,971 - Got credentials from config file.\n",
      "2023-05-10 20:36:19,132 - Authentication with UP42 successful!\n"
     ]
    }
   ],
   "source": [
    "proj_config_file = Path.cwd()/'proj_conf_file.json'\n",
    "up42.authenticate(proj_config_file)"
   ]
  },
  {
   "cell_type": "markdown",
   "id": "5f4ea68e-9799-41d2-a6e2-ec3a132b3fa5",
   "metadata": {
    "tags": []
   },
   "source": [
    "## AOI\n",
    "For Pleiades data a single \"Polygon\" geometry with no more than 999 vertices must be used"
   ]
  },
  {
   "cell_type": "code",
   "execution_count": 74,
   "id": "740bc0c2-54c1-4cb9-875d-77b5935d324b",
   "metadata": {},
   "outputs": [
    {
     "data": {
      "text/plain": [
       "{'type': 'Polygon',\n",
       " 'coordinates': (((5.054720781627505, 43.41845093294918),\n",
       "   (4.973730526538796, 43.403156635850884),\n",
       "   (4.995281581540942, 43.38021519020344),\n",
       "   (5.069319883403152, 43.39794267093101),\n",
       "   (5.054720781627505, 43.41845093294918)),)}"
      ]
     },
     "execution_count": 74,
     "metadata": {},
     "output_type": "execute_result"
    }
   ],
   "source": [
    "aoi = up42.read_vector_file(Path.cwd()/'aoi/aoi_martigues.geojson')\n",
    "aoi['features'][0]['geometry']"
   ]
  },
  {
   "cell_type": "markdown",
   "id": "cce34765-d08c-4dc0-8f98-93fc109d64f0",
   "metadata": {
    "tags": []
   },
   "source": [
    "### View tasking products"
   ]
  },
  {
   "cell_type": "code",
   "execution_count": 6,
   "id": "08428f1c-37c0-4c97-9e1e-5db5e8c1f437",
   "metadata": {},
   "outputs": [],
   "source": [
    "tasking = up42.initialize_tasking()\n",
    "products = tasking.get_data_products(basic=True)"
   ]
  },
  {
   "cell_type": "code",
   "execution_count": 7,
   "id": "beb71b18-87cf-4158-b71e-8ede31d60c6c",
   "metadata": {},
   "outputs": [
    {
     "name": "stdout",
     "output_type": "stream",
     "text": [
      "SPOT 6/7 Tasking -> {'Custom': '3a89d24e-515a-460f-a494-96be55da10a9', 'Analytic': '9d16c506-a6c0-4cf2-a020-8ecaf10b4160', 'Display': '47a693ba-4f8b-414d-8d5b-697373df4765'} \n",
      "\n",
      "Pléiades Neo Tasking -> {'Custom': '07c33a51-94b9-4509-84df-e9c13ea92b84', 'Analytic (Mono)': '123eabab-0511-4f36-883a-80928716c3db', 'Display (Mono)': '469f9b2f-1631-4c09-b66d-575abd41dc8f'} \n",
      "\n",
      "Capella Space Tasking -> {'Custom': '83e21b35-e431-43a0-a1c4-22a6ad313911'} \n",
      "\n",
      "Pléiades Tasking -> {'Custom': '4f866cd3-d816-4c98-ace3-e6105623cf13', 'Analytic': 'bd102407-1814-4f92-8b5a-7697b7a73f5a', 'Display': '28d4a077-6620-4ab5-9a03-c96bf622457e'} \n",
      "\n",
      "TerraSAR Tasking -> {'Custom': 'a6f64332-3148-4e05-a475-45a02176f210'} \n",
      "\n",
      "BlackSky Tasking -> {'Custom': '613ad1f5-4148-4460-a316-1a97e46058f9'} \n",
      "\n",
      "ICEYE Tasking -> {'Custom': '205fd9e1-4b00-4f0a-aabd-01e2f3f4dfba'} \n",
      "\n",
      "DailyVision Tasking -> {'Custom': '19a60197-2738-47bf-83ef-1b780fa142c8'} \n",
      "\n",
      "EarthScanner Tasking -> {'Custom': '8010965f-aa97-41ee-bd4e-f6355f0967da'} \n",
      "\n",
      "SuperView Tasking -> {'Custom': '7984b6ff-09f9-43d4-a87f-88980268d5fd'} \n",
      "\n",
      "TriStereoZY3 Tasking -> {'Custom': '399ab48e-e751-429d-8d8b-fec903deff12'} \n",
      "\n",
      "GaoFen-7 Tasking -> {'Custom': '99a3ff77-85a4-4185-a118-978e8870325f'} \n",
      "\n",
      "Satellogic Tasking -> {'Custom': '9f790255-e8dc-4954-b5f9-3e7bea37cc69'} \n",
      "\n"
     ]
    }
   ],
   "source": [
    "for prod in products:\n",
    "    print(f\"{prod} -> {products[prod]['data_products']} \\n\")"
   ]
  },
  {
   "cell_type": "markdown",
   "id": "a12e7d58-d3a6-449d-be46-d9d28e2a226e",
   "metadata": {},
   "source": [
    "### Build tasking parameters"
   ]
  },
  {
   "cell_type": "markdown",
   "id": "66a5b8f9-cac8-4e53-9a51-0caf48d5a54c",
   "metadata": {},
   "source": [
    "From the options printed above we select BlackSky Tasking and copy the id under 'Custom'"
   ]
  },
  {
   "cell_type": "code",
   "execution_count": 37,
   "id": "64e8742f-c971-4ec5-8437-78c868949705",
   "metadata": {},
   "outputs": [],
   "source": [
    "tasking_product_id = \"4f866cd3-d816-4c98-ace3-e6105623cf13\""
   ]
  },
  {
   "cell_type": "markdown",
   "id": "51175ab7-12f1-4976-b713-6a4c24e20261",
   "metadata": {},
   "source": [
    "Let's pull up the full schema for this tasking product, the schema provides all the information needed i.e. parameters and possible values"
   ]
  },
  {
   "cell_type": "code",
   "execution_count": 45,
   "id": "64459674-6390-4ff6-af00-d81baf7eeb93",
   "metadata": {},
   "outputs": [
    {
     "data": {
      "text/plain": [
       "dict_keys(['$schema', 'type', 'properties', 'required', 'definitions', 'additionalProperties', 'allOf'])"
      ]
     },
     "execution_count": 45,
     "metadata": {},
     "output_type": "execute_result"
    }
   ],
   "source": [
    "tasking_product_schema = tasking.get_data_product_schema(tasking_product_id)\n",
    "tasking_product_schema.keys()"
   ]
  },
  {
   "cell_type": "markdown",
   "id": "10545967-673b-4799-9658-b776d78be2c2",
   "metadata": {},
   "source": [
    "The tasking 'properties' key surfaces all the parameters that can be defined"
   ]
  },
  {
   "cell_type": "code",
   "execution_count": 46,
   "id": "7afe87d7-722a-4b80-93f0-f61664aa8ded",
   "metadata": {},
   "outputs": [
    {
     "data": {
      "text/plain": [
       "{'geometry': {'title': 'Geometry',\n",
       "  'type': 'object',\n",
       "  'allOf': [{'$ref': '#/definitions/Polygon'}]},\n",
       " 'displayName': {'title': 'Order Name', 'type': 'string'},\n",
       " 'extraDescription': {'title': 'Description', 'type': 'string'},\n",
       " 'acquisitionStart': {'title': 'Start',\n",
       "  'type': 'string',\n",
       "  'format': 'date-time'},\n",
       " 'acquisitionEnd': {'title': 'End', 'type': 'string', 'format': 'date-time'},\n",
       " 'acquisitionMode': {'title': 'Acquisition Mode',\n",
       "  'description': 'Acquisition can be set to be monoscopic (imaging from one viewpoint on the same orbit) or stereoscopic (imaging from at least two viewpoints on the same orbit). Stereo imaging is ideal for creating 3D models and tristereo introduces an additional acquisition at nadir which minimises the risk of missing hidden items.',\n",
       "  'type': 'string',\n",
       "  'allOf': [{'$ref': '#/definitions/acquisitionMode'}]},\n",
       " 'cloudCoverage': {'title': 'Max Cloud Coverage (%)',\n",
       "  'description': 'Maximum allowed cloud coverage in percentage.',\n",
       "  'minimum': 5,\n",
       "  'maximum': 20,\n",
       "  'type': 'integer'},\n",
       " 'incidenceAngle': {'title': 'Max Incidence Angle (deg)',\n",
       "  'description': 'Maximum allowed incidence angle in degree.',\n",
       "  'minimum': 5,\n",
       "  'maximum': 50,\n",
       "  'type': 'integer'},\n",
       " 'minBH': {'title': 'Minimum B/H',\n",
       "  'description': 'For stereoscopic and tri-stereoscopic imaging, the angular difference (B/H) can be adjusted. If no minimum angle is specified, 0.4 is set as the default value for stereo and 0.2 for tristereo.',\n",
       "  'minimum': 0.2,\n",
       "  'maximum': 0.8,\n",
       "  'type': 'number'},\n",
       " 'maxBH': {'title': 'Maximum B/H',\n",
       "  'description': 'For stereoscopic and tri-stereoscopic imaging, the angular difference (B/H) can be adjusted. If no maximum angle is specified, 0.7 is set as the default value for stereo and 0.35 for tristereo.',\n",
       "  'minimum': 0.2,\n",
       "  'maximum': 0.8,\n",
       "  'type': 'number'},\n",
       " 'geometricProcessing': {'title': 'Geometric Processing',\n",
       "  'description': 'The Primary product is the geometric processing level closest to the natural image acquired by the sensor. The Projected level results from an additional process to map the image onto an Earth cartographic system. The Ortho product is a georeferenced image in Earth geometry, corrected from acquisition and terrain off-nadir effects.',\n",
       "  'type': 'string',\n",
       "  'allOf': [{'$ref': '#/definitions/geometricProcessing'}]},\n",
       " 'projection': {'title': 'Projection Reference',\n",
       "  'description': 'For projected and ortho level products, the selected projection reference system is used for the processing and georeferencing.',\n",
       "  'type': 'string',\n",
       "  'allOf': [{'$ref': '#/definitions/projection'}]},\n",
       " 'spectralProcessing': {'title': 'Spectral Bands Combination',\n",
       "  'description': 'The Pléiades Panchromatic product includes only one black and white band.The Multispectral product includes four Multispectral (color) bands: Blue, Red, Green and Near Infrared. The Panchromatic and Multispectral products, simultaneously acquired, are packaged together separately (not merged) for a single delivery (1 file for Multispectral + 1 file for Panchromatic).',\n",
       "  'type': 'string',\n",
       "  'allOf': [{'$ref': '#/definitions/spectralProcessing'}]},\n",
       " 'pixelCoding': {'title': 'Pixel Coding',\n",
       "  'description': '8-bit product encoding is supported for basic and display radiometric processing while 12-bit/16-bit product encoding is supported for basic, display and reflectance radiometric processing.',\n",
       "  'type': 'string',\n",
       "  'allOf': [{'$ref': '#/definitions/pixelCoding'}]},\n",
       " 'radiometricProcessing': {'title': 'Radiometric Processing',\n",
       "  'description': 'Basic imagery corresponds to raw data without any radiometric processing. Ideal to carry up own calibration and own spectral analysis. Reflectance imagery is radiometrically corrected from sensor calibration and systematic atmospheric effects. In the Display radiometric option, a true colour curve has been applied to the image directly usable for visualisation on screen.',\n",
       "  'type': 'string',\n",
       "  'allOf': [{'$ref': '#/definitions/radiometricProcessing'}]},\n",
       " 'deliveredAs': {'title': 'Delivery Format',\n",
       "  'description': 'The GeoTIFF format is free of any compression. JPEG 2000 Optimised is intended for those looking for fast download and easy data sharing. JPEG 2000 Regular is perfect for users who plan to do high precision post-processing.',\n",
       "  'type': 'string',\n",
       "  'allOf': [{'$ref': '#/definitions/deliveredAs'}]}}"
      ]
     },
     "execution_count": 46,
     "metadata": {},
     "output_type": "execute_result"
    }
   ],
   "source": [
    "tasking_product_schema['properties']"
   ]
  },
  {
   "cell_type": "markdown",
   "id": "5ead116f-0644-4a00-b47b-57cb14d62885",
   "metadata": {},
   "source": [
    "The 'definitions' key provides the range of values that can be used to define those parameters thar are not described in the previously shown 'properties' key"
   ]
  },
  {
   "cell_type": "code",
   "execution_count": 49,
   "id": "88e7f83e-be24-4830-85d1-254f7bb3c19d",
   "metadata": {
    "tags": []
   },
   "outputs": [
    {
     "data": {
      "text/plain": [
       "{'Polygon': {'title': 'Polygon',\n",
       "  'description': 'Polygon Model.',\n",
       "  'type': 'object',\n",
       "  'properties': {'type': {'title': 'Type',\n",
       "    'default': 'Polygon',\n",
       "    'const': 'Polygon',\n",
       "    'type': 'string'},\n",
       "   'coordinates': {'type': 'array',\n",
       "    'items': {'type': 'array',\n",
       "     'minItems': 4,\n",
       "     'items': {'type': 'array',\n",
       "      'minItems': 2,\n",
       "      'maxItems': 2,\n",
       "      'items': {'type': 'number'}}}}},\n",
       "  'required': ['coordinates']},\n",
       " 'acquisitionMode': {'title': 'acquisitionMode',\n",
       "  'anyOf': [{'const': 'mono', 'title': 'MONO'},\n",
       "   {'const': 'stereo', 'title': 'STEREO'},\n",
       "   {'const': 'tristereo', 'title': 'TRISTEREO'}]},\n",
       " 'geometricProcessing': {'title': 'geometricProcessing',\n",
       "  'anyOf': [{'const': 'primary', 'title': 'Primary'},\n",
       "   {'const': 'projected', 'title': 'Projected'},\n",
       "   {'const': 'ortho', 'title': 'Ortho'}]},\n",
       " 'projection': {'title': 'projection',\n",
       "  'anyOf': [{'const': '2154', 'title': '2154'},\n",
       "   {'const': '23031', 'title': '23031'},\n",
       "   {'const': '25831', 'title': '25831'},\n",
       "   {'const': '27563', 'title': '27563'},\n",
       "   {'const': '27572', 'title': '27572'},\n",
       "   {'const': '27573', 'title': '27573'},\n",
       "   {'const': '3035', 'title': '3035'},\n",
       "   {'const': '3857', 'title': '3857'},\n",
       "   {'const': '4326', 'title': '4326'},\n",
       "   {'const': '32631', 'title': '32631'}]},\n",
       " 'spectralProcessing': {'title': 'spectralProcessing',\n",
       "  'anyOf': [{'const': 'pansharpened_3_band_natural_color',\n",
       "    'title': 'Pansharpened 3-band natural color'},\n",
       "   {'const': 'pansharpened_3_band_false_color',\n",
       "    'title': 'Pansharpened 3-band False Color'},\n",
       "   {'const': 'pansharpened_4_band', 'title': 'Pansharpened 4-band'},\n",
       "   {'const': 'panchromatic', 'title': 'Panchromatic'},\n",
       "   {'const': 'multispectral_4_band', 'title': 'Multispectral 4-band'},\n",
       "   {'const': 'bundle',\n",
       "    'title': 'Bundle: Panchromatic + Multispectral 4-band'}]},\n",
       " 'pixelCoding': {'title': 'pixelCoding',\n",
       "  'anyOf': [{'const': '8bits', 'title': '8 bits (JPEG 2000 / GeoTIFF)'},\n",
       "   {'const': '12bits', 'title': '12 bits (JPEG 2000) / 16 bits (GeoTIFF)'}]},\n",
       " 'radiometricProcessing': {'title': 'radiometricProcessing',\n",
       "  'anyOf': [{'const': 'basic', 'title': 'Basic'},\n",
       "   {'const': 'display', 'title': 'Display'},\n",
       "   {'const': 'reflectance', 'title': 'Reflectance'}]},\n",
       " 'deliveredAs': {'title': 'deliveredAs',\n",
       "  'anyOf': [{'const': 'geotiff', 'title': 'DIMAP-GeoTIFF'},\n",
       "   {'const': 'jpeg_2000_regular', 'title': 'DIMAP-Regular JPEG 2000'},\n",
       "   {'const': 'jpeg_2000_optimized', 'title': 'DIMAP-Optimized JPEG 2000'}]}}"
      ]
     },
     "execution_count": 49,
     "metadata": {},
     "output_type": "execute_result"
    }
   ],
   "source": [
    "tasking_product_schema['definitions']"
   ]
  },
  {
   "cell_type": "markdown",
   "id": "57ab3205-a3b7-47db-aaf8-f1f98b392731",
   "metadata": {},
   "source": [
    "We will pass the tasking schema 'properties' key to a variable that we'll use later build our parameters"
   ]
  },
  {
   "cell_type": "code",
   "execution_count": 51,
   "id": "9164e498-f390-4cf1-a10d-b5dd8afa433f",
   "metadata": {
    "tags": []
   },
   "outputs": [],
   "source": [
    "params_payload = tasking_product_schema['properties']"
   ]
  },
  {
   "cell_type": "markdown",
   "id": "fa9ea33e-55d2-4df4-b214-e52ef9aa928d",
   "metadata": {},
   "source": [
    "We can start putting our parameters together. The json payload we are looking to build is essentially a dictionary composed of two keys: “dataProduct” and “params”"
   ]
  },
  {
   "cell_type": "markdown",
   "id": "3ae8c99e-be83-4439-b5ec-63b9798f4e9a",
   "metadata": {},
   "source": [
    "Let's create new dictionary"
   ]
  },
  {
   "cell_type": "code",
   "execution_count": 52,
   "id": "67641751-b175-4f29-a382-b685365c6d00",
   "metadata": {},
   "outputs": [],
   "source": [
    "params_build = {\"dataProduct\":\"\",\n",
    "                    \"params\":{}\n",
    "                   }"
   ]
  },
  {
   "cell_type": "markdown",
   "id": "465acb52-d25e-416b-8b10-a1497ddb00e2",
   "metadata": {},
   "source": [
    "We identified the “dataProduct” id previously and passed it to a variable, we can use this as the value to the \"dataProduct\" key for our dictionary.\n",
    "We can also pass the params_payload we retrieved from the product schema earlier as our temporary parameters. We will update these with actual parameters soon.\n"
   ]
  },
  {
   "cell_type": "code",
   "execution_count": 53,
   "id": "eb275927-4005-4f36-91ed-e550e5d9c5da",
   "metadata": {},
   "outputs": [],
   "source": [
    "params_build[\"dataProduct\"] = tasking_product_id\n",
    "params_build[\"params\"] = params_payload"
   ]
  },
  {
   "cell_type": "markdown",
   "id": "12dfa4eb-020c-4738-b022-080a1f69c7e9",
   "metadata": {},
   "source": [
    "That's a lot of info but you can use it to discover the values you are allowed to pass. Let's view the actual keys and see what needs to be updated. "
   ]
  },
  {
   "cell_type": "code",
   "execution_count": 54,
   "id": "a58fbaf1-c9da-4361-9bda-d249abbc1b8a",
   "metadata": {},
   "outputs": [
    {
     "data": {
      "text/plain": [
       "dict_keys(['geometry', 'displayName', 'extraDescription', 'acquisitionStart', 'acquisitionEnd', 'acquisitionMode', 'cloudCoverage', 'incidenceAngle', 'minBH', 'maxBH', 'geometricProcessing', 'projection', 'spectralProcessing', 'pixelCoding', 'radiometricProcessing', 'deliveredAs'])"
      ]
     },
     "execution_count": 54,
     "metadata": {},
     "output_type": "execute_result"
    }
   ],
   "source": [
    "params_build[\"params\"].keys()"
   ]
  },
  {
   "cell_type": "markdown",
   "id": "ac1d1954-65b1-4805-9455-59391c162486",
   "metadata": {},
   "source": [
    "Cool, so these are the keys and therefore tasking parameters we need to provide.\n",
    "In the next code block we assign each parameter value to a variable and will update our dictionary.\n",
    "\n",
    "If you need to use different parameter values, for example change the rdiometricProcessing I suggest you scroll back up and look through the tasking_product_schema['definitions'] or tasking_product_schema['properties'] to discover the possible other values that can be used.\n"
   ]
  },
  {
   "cell_type": "code",
   "execution_count": 69,
   "id": "46182cfb-9f7d-4650-bb08-6dd83f902f03",
   "metadata": {},
   "outputs": [],
   "source": [
    "# Provide your tasking parameters here\n",
    "\n",
    "displayName = \"TEST_ALEX_phr\"\n",
    "extraDescription = \"SDK build demo\"\n",
    "acquisitionStart = \"2023-05-20\"\n",
    "acquisitionEnd = \"2023-06-20\"\n",
    "acquisitionMode = \"mono\"\n",
    "cloudCoverage = 10\n",
    "incidenceAngle = 25\n",
    "minBH = None\n",
    "maxBH = None\n",
    "geometricProcessing = \"ortho\"\n",
    "projection = \"4326\"\n",
    "spectralProcessing = \"pansharpened_4_band\"\n",
    "pixelCoding = \"12bits\"\n",
    "radiometricProcessing = \"reflectance\"\n",
    "deliveredAs = \"jpeg_2000_optimized\"\n",
    "\n",
    "# Make the necessary modfication in the dictionary\n",
    "\n",
    "params_build[\"params\"][\"geometry\"] = aoi['features'][0]['geometry']\n",
    "params_build[\"params\"][\"displayName\"] = displayName\n",
    "params_build[\"params\"][\"extraDescription\"] = extraDescription\n",
    "params_build[\"params\"][\"acquisitionStart\"] = str(acquisitionStart)+\"T00:00:00.000Z\"\n",
    "params_build[\"params\"][\"acquisitionEnd\"] = str(acquisitionEnd)+\"T00:00:00.000Z\"\n",
    "params_build[\"params\"][\"acquisitionMode\"] = acquisitionMode\n",
    "params_build[\"params\"][\"cloudCoverage\"] = cloudCoverage\n",
    "params_build[\"params\"][\"incidenceAngle\"] = incidenceAngle\n",
    "params_build[\"params\"][\"minBH\"] = minBH\n",
    "params_build[\"params\"][\"maxBH\"] = maxBH\n",
    "params_build[\"params\"][\"geometricProcessing\"] = geometricProcessing\n",
    "params_build[\"params\"][\"projection\"] = projection\n",
    "params_build[\"params\"][\"spectralProcessing\"] = spectralProcessing\n",
    "params_build[\"params\"][\"pixelCoding\"] = pixelCoding\n",
    "params_build[\"params\"][\"radiometricProcessing\"] = radiometricProcessing\n",
    "params_build[\"params\"][\"deliveredAs\"] = deliveredAs"
   ]
  },
  {
   "cell_type": "code",
   "execution_count": 70,
   "id": "c655c97f-2812-423a-9440-5de94f7e2798",
   "metadata": {},
   "outputs": [
    {
     "data": {
      "text/plain": [
       "{'dataProduct': '4f866cd3-d816-4c98-ace3-e6105623cf13',\n",
       " 'params': {'geometry': {'type': 'Polygon',\n",
       "   'coordinates': (((5.054720781627505, 43.41845093294918),\n",
       "     (4.973730526538796, 43.403156635850884),\n",
       "     (4.995281581540942, 43.38021519020344),\n",
       "     (5.069319883403152, 43.39794267093101),\n",
       "     (5.054720781627505, 43.41845093294918)),)},\n",
       "  'displayName': 'TEST_ALEX_phr',\n",
       "  'extraDescription': 'SDK build demo',\n",
       "  'acquisitionStart': '2023-05-20T00:00:00.000Z',\n",
       "  'acquisitionEnd': '2023-06-20T00:00:00.000Z',\n",
       "  'acquisitionMode': 'mono',\n",
       "  'cloudCoverage': 10,\n",
       "  'incidenceAngle': 25,\n",
       "  'minBH': None,\n",
       "  'maxBH': None,\n",
       "  'geometricProcessing': 'ortho',\n",
       "  'projection': '4326',\n",
       "  'spectralProcessing': 'pansharpened_4_band',\n",
       "  'pixelCoding': '12bits',\n",
       "  'radiometricProcessing': 'reflectance',\n",
       "  'deliveredAs': 'jpeg_2000_optimized'}}"
      ]
     },
     "execution_count": 70,
     "metadata": {},
     "output_type": "execute_result"
    }
   ],
   "source": [
    "params_build"
   ]
  },
  {
   "cell_type": "code",
   "execution_count": 71,
   "id": "656933d5-e4e8-4387-bf06-8dadd7f02130",
   "metadata": {},
   "outputs": [],
   "source": [
    "with open('tasking_parameters_payload.json' , 'w') as tsk:\n",
    "    json.dump(params_build, tsk, indent = 4)"
   ]
  },
  {
   "cell_type": "markdown",
   "id": "4b5917e8-d7d1-42d2-b28c-a4bfb3f06783",
   "metadata": {},
   "source": [
    "### Place the order"
   ]
  },
  {
   "cell_type": "markdown",
   "id": "47eef54c-80ce-4310-a2e9-6ac4bda2659e",
   "metadata": {},
   "source": [
    "There are no costs at this point, a feasibility study is triggered and a quote will be made available in one to three business days depending on the complexity of the order. You are charged and the order is activated only after you have accepted the quote that will be made available to you."
   ]
  },
  {
   "cell_type": "code",
   "execution_count": 72,
   "id": "9f834f18-c6b9-43d6-a7b4-1b24aebe9842",
   "metadata": {},
   "outputs": [
    {
     "name": "stderr",
     "output_type": "stream",
     "text": [
      "2023-05-10 22:01:16,714 - Order is PLACED\n",
      "2023-05-10 22:01:16,716 - Order 46c320ed-ee2c-485a-86f8-f5db61924273 is now PLACED.\n"
     ]
    },
    {
     "data": {
      "text/plain": [
       "Order(order_id: 46c320ed-ee2c-485a-86f8-f5db61924273, assets: [], dataProvider: None, status: PLACED, createdAt: 2023-05-11T02:01:15.337685Z, updatedAt: 2023-05-11T02:01:15.337685Z)"
      ]
     },
     "execution_count": 72,
     "metadata": {},
     "output_type": "execute_result"
    }
   ],
   "source": [
    "order = tasking.place_order(params_build)\n",
    "order"
   ]
  },
  {
   "cell_type": "markdown",
   "id": "a3405db2-4618-43e8-b6ae-3c2af17829be",
   "metadata": {},
   "source": [
    "Happy tasking!!\n",
    "\n",
    "If you have comments or questions please reach out to alex.bishop@up42.com"
   ]
  },
  {
   "cell_type": "markdown",
   "id": "523de1ba-7438-4f76-84c4-ab65e17024c4",
   "metadata": {},
   "source": [
    "Documentation\n",
    "\n",
    "\n",
    "https://docs.up42.com/data\n",
    "\n",
    "https://docs.up42.com/developers/api#tag/credit-packages/operation/getCreditPack\n",
    "\n",
    "https://sdk.up42.com/"
   ]
  },
  {
   "cell_type": "code",
   "execution_count": null,
   "id": "58833c1e-4398-404c-a1cf-28472c844e3b",
   "metadata": {},
   "outputs": [],
   "source": []
  }
 ],
 "metadata": {
  "kernelspec": {
   "display_name": "Python 3 (ipykernel)",
   "language": "python",
   "name": "python3"
  },
  "language_info": {
   "codemirror_mode": {
    "name": "ipython",
    "version": 3
   },
   "file_extension": ".py",
   "mimetype": "text/x-python",
   "name": "python",
   "nbconvert_exporter": "python",
   "pygments_lexer": "ipython3",
   "version": "3.10.4"
  }
 },
 "nbformat": 4,
 "nbformat_minor": 5
}
