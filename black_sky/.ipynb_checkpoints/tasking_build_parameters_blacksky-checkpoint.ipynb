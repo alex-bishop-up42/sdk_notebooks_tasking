{
 "cells": [
  {
   "cell_type": "markdown",
   "id": "24b62939-c6b0-407e-83d9-2e9fc2cde304",
   "metadata": {},
   "source": [
    "# Tasking Black Sky - build tasking parameters and place an order"
   ]
  },
  {
   "cell_type": "markdown",
   "id": "b671eab4-5e89-4a21-8bdf-fddfe682e762",
   "metadata": {},
   "source": [
    "This notebook proposes a method for building tasking parameters needed for placing a Black Sky tasking order. A similar approach can be used with other collections, the only variation would be around the number required parameters.\n",
    "\n",
    "To place a tasking order we need to provide tasking parameters in the form of a json file. Here we will build a tasking parameters json file using the product schema as our foundation.\n"
   ]
  },
  {
   "cell_type": "code",
   "execution_count": 1,
   "id": "3900d6a6-a7a0-4ef8-be4f-ab1350b7f270",
   "metadata": {},
   "outputs": [],
   "source": [
    "import up42\n",
    "from pathlib import Path\n",
    "import json"
   ]
  },
  {
   "cell_type": "markdown",
   "id": "e8eaa471-d8c9-401d-bcb8-b19a051b26d4",
   "metadata": {},
   "source": [
    "## Authenticate"
   ]
  },
  {
   "cell_type": "markdown",
   "id": "b3df3f60-d222-49f9-9e98-7325230984a7",
   "metadata": {},
   "source": [
    "Each API call is made at a project level. To find project credentials go to Projects and select an existing project or create a new one.\n",
    "\n",
    "Go to the Developers tab in the project and copy the values of Project API Key and Project ID.\n",
    "\n",
    "Don't share your credentials with others. They allow anyone to access your project and consume the UP42 credits associated with your account. If your credentials were compromised, generate a new API key. If needed more info can be found on our documentations page.\n",
    "\n",
    "Past these credentials into './proj_conf_file.json' located in this directory. "
   ]
  },
  {
   "cell_type": "code",
   "execution_count": 2,
   "id": "10484cee-9f54-423b-86ca-6cfd19e34a3f",
   "metadata": {},
   "outputs": [
    {
     "name": "stderr",
     "output_type": "stream",
     "text": [
      "2023-05-10 16:31:21,915 - Got credentials from config file.\n",
      "2023-05-10 16:31:23,089 - Authentication with UP42 successful!\n"
     ]
    }
   ],
   "source": [
    "proj_config_file = Path.cwd()/'proj_conf_file.json'\n",
    "up42.authenticate(proj_config_file)"
   ]
  },
  {
   "cell_type": "markdown",
   "id": "5f4ea68e-9799-41d2-a6e2-ec3a132b3fa5",
   "metadata": {
    "tags": []
   },
   "source": [
    "## AOI\n",
    "For BLACK SKY data a \"Point\" geometry must be used"
   ]
  },
  {
   "cell_type": "code",
   "execution_count": 3,
   "id": "740bc0c2-54c1-4cb9-875d-77b5935d324b",
   "metadata": {},
   "outputs": [
    {
     "data": {
      "text/plain": [
       "{'type': 'Point', 'coordinates': (-80.84239741821287, 35.23310416169144)}"
      ]
     },
     "execution_count": 3,
     "metadata": {},
     "output_type": "execute_result"
    }
   ],
   "source": [
    "aoi = up42.read_vector_file(Path.cwd()/'aoi/aoi_blacksky_point.geojson')\n",
    "aoi['features'][0]['geometry']"
   ]
  },
  {
   "cell_type": "markdown",
   "id": "cce34765-d08c-4dc0-8f98-93fc109d64f0",
   "metadata": {
    "tags": []
   },
   "source": [
    "### View tasking products"
   ]
  },
  {
   "cell_type": "code",
   "execution_count": 4,
   "id": "08428f1c-37c0-4c97-9e1e-5db5e8c1f437",
   "metadata": {},
   "outputs": [],
   "source": [
    "tasking = up42.initialize_tasking()\n",
    "products = tasking.get_data_products(basic=True)"
   ]
  },
  {
   "cell_type": "code",
   "execution_count": 5,
   "id": "beb71b18-87cf-4158-b71e-8ede31d60c6c",
   "metadata": {},
   "outputs": [
    {
     "name": "stdout",
     "output_type": "stream",
     "text": [
      "SPOT 6/7 Tasking -> {'Custom': '3a89d24e-515a-460f-a494-96be55da10a9', 'Analytic': '9d16c506-a6c0-4cf2-a020-8ecaf10b4160', 'Display': '47a693ba-4f8b-414d-8d5b-697373df4765'} \n",
      "\n",
      "Pléiades Neo Tasking -> {'Custom': '07c33a51-94b9-4509-84df-e9c13ea92b84', 'Analytic (Mono)': '123eabab-0511-4f36-883a-80928716c3db', 'Display (Mono)': '469f9b2f-1631-4c09-b66d-575abd41dc8f'} \n",
      "\n",
      "Capella Space Tasking -> {'Custom': '83e21b35-e431-43a0-a1c4-22a6ad313911'} \n",
      "\n",
      "Pléiades Tasking -> {'Custom': '4f866cd3-d816-4c98-ace3-e6105623cf13', 'Analytic': 'bd102407-1814-4f92-8b5a-7697b7a73f5a', 'Display': '28d4a077-6620-4ab5-9a03-c96bf622457e'} \n",
      "\n",
      "TerraSAR Tasking -> {'Custom': 'a6f64332-3148-4e05-a475-45a02176f210'} \n",
      "\n",
      "BlackSky Tasking -> {'Custom': '613ad1f5-4148-4460-a316-1a97e46058f9'} \n",
      "\n",
      "ICEYE Tasking -> {'Custom': '205fd9e1-4b00-4f0a-aabd-01e2f3f4dfba'} \n",
      "\n",
      "DailyVision Tasking -> {'Custom': '19a60197-2738-47bf-83ef-1b780fa142c8'} \n",
      "\n",
      "EarthScanner Tasking -> {'Custom': '8010965f-aa97-41ee-bd4e-f6355f0967da'} \n",
      "\n",
      "SuperView Tasking -> {'Custom': '7984b6ff-09f9-43d4-a87f-88980268d5fd'} \n",
      "\n",
      "TriStereoZY3 Tasking -> {'Custom': '399ab48e-e751-429d-8d8b-fec903deff12'} \n",
      "\n",
      "GaoFen-7 Tasking -> {'Custom': '99a3ff77-85a4-4185-a118-978e8870325f'} \n",
      "\n",
      "Satellogic Tasking -> {'Custom': '9f790255-e8dc-4954-b5f9-3e7bea37cc69'} \n",
      "\n"
     ]
    }
   ],
   "source": [
    "for prod in products:\n",
    "    print(f\"{prod} -> {products[prod]['data_products']} \\n\")"
   ]
  },
  {
   "cell_type": "markdown",
   "id": "a12e7d58-d3a6-449d-be46-d9d28e2a226e",
   "metadata": {},
   "source": [
    "### Build tasking parameters"
   ]
  },
  {
   "cell_type": "markdown",
   "id": "66a5b8f9-cac8-4e53-9a51-0caf48d5a54c",
   "metadata": {},
   "source": [
    "From the options printed above we select BlackSky Tasking and copy the id under 'Custom'"
   ]
  },
  {
   "cell_type": "code",
   "execution_count": 6,
   "id": "64e8742f-c971-4ec5-8437-78c868949705",
   "metadata": {},
   "outputs": [],
   "source": [
    "bsk_tasking_id = \"613ad1f5-4148-4460-a316-1a97e46058f9\""
   ]
  },
  {
   "cell_type": "markdown",
   "id": "51175ab7-12f1-4976-b713-6a4c24e20261",
   "metadata": {},
   "source": [
    "Let's pull up the full schema for this tasking product, the schema provides all the information needed i.e. parameters and possible values"
   ]
  },
  {
   "cell_type": "code",
   "execution_count": 7,
   "id": "64459674-6390-4ff6-af00-d81baf7eeb93",
   "metadata": {},
   "outputs": [],
   "source": [
    "tasking_product_schema = tasking.get_data_product_schema(bsk_tasking_id)\n",
    "# tasking_product_schema"
   ]
  },
  {
   "cell_type": "code",
   "execution_count": 8,
   "id": "d14bafba-7440-4891-ab1c-f17d5bf4e4d9",
   "metadata": {
    "tags": []
   },
   "outputs": [
    {
     "data": {
      "text/plain": [
       "dict_keys(['geometry', 'displayName', 'extraDescription', 'acquisitionStart', 'acquisitionEnd', 'acquisitionMode', 'cloudCoverage', 'incidenceAngle', 'priority'])"
      ]
     },
     "execution_count": 8,
     "metadata": {},
     "output_type": "execute_result"
    }
   ],
   "source": [
    "tasking_product_schema['properties'].keys()"
   ]
  },
  {
   "cell_type": "code",
   "execution_count": 9,
   "id": "9164e498-f390-4cf1-a10d-b5dd8afa433f",
   "metadata": {},
   "outputs": [
    {
     "data": {
      "text/plain": [
       "{'geometry': {'title': 'Geometry',\n",
       "  'type': 'object',\n",
       "  'allOf': [{'$ref': '#/definitions/Point'}]},\n",
       " 'displayName': {'title': 'Order Name', 'type': 'string'},\n",
       " 'extraDescription': {'title': 'Description', 'type': 'string'},\n",
       " 'acquisitionStart': {'title': 'Start',\n",
       "  'type': 'string',\n",
       "  'format': 'date-time'},\n",
       " 'acquisitionEnd': {'title': 'End', 'type': 'string', 'format': 'date-time'},\n",
       " 'acquisitionMode': {'title': 'Acquisition Mode',\n",
       "  'description': 'Standard mode acquires single image scene in daylight with standard product specifications. Burst collects multiple images in rapid sequence for motion analysis. Area Coverage collects mulitple images over an area larger than a single image scene. Stereo collects multiple images from different viewing angles for 3D visualization and analysis.',\n",
       "  'type': 'string',\n",
       "  'allOf': [{'$ref': '#/definitions/acquisitionMode'}]},\n",
       " 'cloudCoverage': {'title': 'Max Cloud Coverage (%)',\n",
       "  'description': 'Maximum allowed cloud coverage in percentage. If nothing specified, 30% is set as the default cloud cover.',\n",
       "  'default': 30,\n",
       "  'minimum': 30,\n",
       "  'maximum': 100,\n",
       "  'type': 'integer'},\n",
       " 'incidenceAngle': {'title': 'Max Incidence Angle (deg)',\n",
       "  'description': 'Maximum allowed incidence angle (angle between the sub-satellite point, satellite, and the target) in degree. If nothing specified, an angle between 0 and 30 is set as the default angle.',\n",
       "  'default': 30,\n",
       "  'minimum': 0,\n",
       "  'maximum': 30,\n",
       "  'type': 'integer'},\n",
       " 'priority': {'title': 'Priority',\n",
       "  'description': 'Choosing high priority for your order will incur additional cost (approximately 70%).',\n",
       "  'type': 'string',\n",
       "  'allOf': [{'$ref': '#/definitions/priority'}]}}"
      ]
     },
     "execution_count": 9,
     "metadata": {},
     "output_type": "execute_result"
    }
   ],
   "source": [
    "params_payload = tasking_product_schema['properties']\n",
    "params_payload"
   ]
  },
  {
   "cell_type": "markdown",
   "id": "fa9ea33e-55d2-4df4-b214-e52ef9aa928d",
   "metadata": {},
   "source": [
    "We can start putting our parameters together. The json payload we are looking to build is essentially a dictionary composed of two keys: “dataProduct” and “params”"
   ]
  },
  {
   "cell_type": "markdown",
   "id": "3ae8c99e-be83-4439-b5ec-63b9798f4e9a",
   "metadata": {},
   "source": [
    "Let's create new dictionary"
   ]
  },
  {
   "cell_type": "code",
   "execution_count": 10,
   "id": "67641751-b175-4f29-a382-b685365c6d00",
   "metadata": {},
   "outputs": [],
   "source": [
    "params_build = {\"dataProduct\":\"\",\n",
    "                    \"params\":{}\n",
    "                   }"
   ]
  },
  {
   "cell_type": "markdown",
   "id": "465acb52-d25e-416b-8b10-a1497ddb00e2",
   "metadata": {},
   "source": [
    "We identified the “dataProduct” id previously and passed it to a variable, we can use this as the value to the \"dataProduct\" key for our dictionary.\n",
    "We can also pass the params_payload we retrieved from the product schema earlier as our temporary parameters. We will update these with actual parameters soon.\n"
   ]
  },
  {
   "cell_type": "code",
   "execution_count": 11,
   "id": "eb275927-4005-4f36-91ed-e550e5d9c5da",
   "metadata": {},
   "outputs": [],
   "source": [
    "params_build[\"dataProduct\"] = bsk_tasking_id\n",
    "params_build[\"params\"] = params_payload"
   ]
  },
  {
   "cell_type": "markdown",
   "id": "05d6786e-fa40-4cc4-8290-bc70fe796ce0",
   "metadata": {},
   "source": [
    "Sanity check, let's see what this looks like"
   ]
  },
  {
   "cell_type": "code",
   "execution_count": 12,
   "id": "f8a250e9-4b04-4741-bd9a-a4309fbcaf54",
   "metadata": {},
   "outputs": [
    {
     "data": {
      "text/plain": [
       "{'dataProduct': '613ad1f5-4148-4460-a316-1a97e46058f9',\n",
       " 'params': {'geometry': {'title': 'Geometry',\n",
       "   'type': 'object',\n",
       "   'allOf': [{'$ref': '#/definitions/Point'}]},\n",
       "  'displayName': {'title': 'Order Name', 'type': 'string'},\n",
       "  'extraDescription': {'title': 'Description', 'type': 'string'},\n",
       "  'acquisitionStart': {'title': 'Start',\n",
       "   'type': 'string',\n",
       "   'format': 'date-time'},\n",
       "  'acquisitionEnd': {'title': 'End', 'type': 'string', 'format': 'date-time'},\n",
       "  'acquisitionMode': {'title': 'Acquisition Mode',\n",
       "   'description': 'Standard mode acquires single image scene in daylight with standard product specifications. Burst collects multiple images in rapid sequence for motion analysis. Area Coverage collects mulitple images over an area larger than a single image scene. Stereo collects multiple images from different viewing angles for 3D visualization and analysis.',\n",
       "   'type': 'string',\n",
       "   'allOf': [{'$ref': '#/definitions/acquisitionMode'}]},\n",
       "  'cloudCoverage': {'title': 'Max Cloud Coverage (%)',\n",
       "   'description': 'Maximum allowed cloud coverage in percentage. If nothing specified, 30% is set as the default cloud cover.',\n",
       "   'default': 30,\n",
       "   'minimum': 30,\n",
       "   'maximum': 100,\n",
       "   'type': 'integer'},\n",
       "  'incidenceAngle': {'title': 'Max Incidence Angle (deg)',\n",
       "   'description': 'Maximum allowed incidence angle (angle between the sub-satellite point, satellite, and the target) in degree. If nothing specified, an angle between 0 and 30 is set as the default angle.',\n",
       "   'default': 30,\n",
       "   'minimum': 0,\n",
       "   'maximum': 30,\n",
       "   'type': 'integer'},\n",
       "  'priority': {'title': 'Priority',\n",
       "   'description': 'Choosing high priority for your order will incur additional cost (approximately 70%).',\n",
       "   'type': 'string',\n",
       "   'allOf': [{'$ref': '#/definitions/priority'}]}}}"
      ]
     },
     "execution_count": 12,
     "metadata": {},
     "output_type": "execute_result"
    }
   ],
   "source": [
    "params_build"
   ]
  },
  {
   "cell_type": "markdown",
   "id": "12dfa4eb-020c-4738-b022-080a1f69c7e9",
   "metadata": {},
   "source": [
    "If all went well you should have a dictionary with a lot of info but you can use it to discover the values you are allowed to pass. Let's view the actual keys and see what needs to be updated again.  "
   ]
  },
  {
   "cell_type": "code",
   "execution_count": 14,
   "id": "a58fbaf1-c9da-4361-9bda-d249abbc1b8a",
   "metadata": {},
   "outputs": [
    {
     "data": {
      "text/plain": [
       "dict_keys(['geometry', 'displayName', 'extraDescription', 'acquisitionStart', 'acquisitionEnd', 'acquisitionMode', 'cloudCoverage', 'incidenceAngle', 'priority'])"
      ]
     },
     "execution_count": 14,
     "metadata": {},
     "output_type": "execute_result"
    }
   ],
   "source": [
    "params_build[\"params\"].keys()"
   ]
  },
  {
   "cell_type": "markdown",
   "id": "ac1d1954-65b1-4805-9455-59391c162486",
   "metadata": {},
   "source": [
    "Cool, so these are the keys and therefore tasking parameters we need to provide.\n",
    "In the next code block we assign each parameter value to a variable and will update our dictionary \n"
   ]
  },
  {
   "cell_type": "code",
   "execution_count": 15,
   "id": "46182cfb-9f7d-4650-bb08-6dd83f902f03",
   "metadata": {},
   "outputs": [],
   "source": [
    "# Provide your tasking parameters here\n",
    "\n",
    "displayName = \"TEST_ALEX_BSK\"\n",
    "extraDescription = \"SDK build demo\"\n",
    "acquisitionStart = \"2023-05-20\"\n",
    "acquisitionEnd = \"2023-06-20\"\n",
    "acquisitionMode = \"standard\"\n",
    "cloudCoverage = 30\n",
    "incidenceAngle = 20\n",
    "priority = \"standard\"\n",
    "\n",
    "# Make the necessary modfication in the dictionary\n",
    "\n",
    "params_build[\"params\"][\"geometry\"] = aoi['features'][0]['geometry']\n",
    "params_build[\"params\"][\"displayName\"] = displayName\n",
    "params_build[\"params\"][\"extraDescription\"] = extraDescription\n",
    "params_build[\"params\"][\"acquisitionStart\"] = str(acquisitionStart)+\"T00:00:00.000Z\"\n",
    "params_build[\"params\"][\"acquisitionEnd\"] = str(acquisitionEnd)+\"T00:00:00.000Z\"\n",
    "params_build[\"params\"][\"acquisitionMode\"] = acquisitionMode\n",
    "params_build[\"params\"][\"cloudCoverage\"] = cloudCoverage\n",
    "params_build[\"params\"][\"incidenceAngle\"] = incidenceAngle\n",
    "params_build[\"params\"][\"priority\"] = priority"
   ]
  },
  {
   "cell_type": "markdown",
   "id": "36b29d0c-ae47-436b-9d1b-859034b613ce",
   "metadata": {},
   "source": [
    "We did ! Let's look at the json payload we put together containing our Black Sky tasking parameters."
   ]
  },
  {
   "cell_type": "code",
   "execution_count": 17,
   "id": "a86905e3-b34b-4e03-ad43-f07bdd3925f7",
   "metadata": {},
   "outputs": [
    {
     "data": {
      "text/plain": [
       "{'dataProduct': '613ad1f5-4148-4460-a316-1a97e46058f9',\n",
       " 'params': {'geometry': {'type': 'Point',\n",
       "   'coordinates': (-80.84239741821287, 35.23310416169144)},\n",
       "  'displayName': 'TEST_ALEX_BSK',\n",
       "  'extraDescription': 'SDK build demo',\n",
       "  'acquisitionStart': '2023-05-20T00:00:00.000Z',\n",
       "  'acquisitionEnd': '2023-06-20T00:00:00.000Z',\n",
       "  'acquisitionMode': 'standard',\n",
       "  'cloudCoverage': 30,\n",
       "  'incidenceAngle': 20,\n",
       "  'priority': 'standard'}}"
      ]
     },
     "execution_count": 17,
     "metadata": {},
     "output_type": "execute_result"
    }
   ],
   "source": [
    "params_build"
   ]
  },
  {
   "cell_type": "markdown",
   "id": "5574636b-eb26-42dc-817e-d9a27af38824",
   "metadata": {},
   "source": [
    "For reference and perhaps for future use let's save these order parameters to a json file."
   ]
  },
  {
   "cell_type": "code",
   "execution_count": 18,
   "id": "656933d5-e4e8-4387-bf06-8dadd7f02130",
   "metadata": {},
   "outputs": [],
   "source": [
    "with open('tasking_parameters_payload.json' , 'w') as tsk:\n",
    "    json.dump(params_build, tsk, indent = 4)"
   ]
  },
  {
   "cell_type": "markdown",
   "id": "4b5917e8-d7d1-42d2-b28c-a4bfb3f06783",
   "metadata": {},
   "source": [
    "### Place the order"
   ]
  },
  {
   "cell_type": "markdown",
   "id": "47eef54c-80ce-4310-a2e9-6ac4bda2659e",
   "metadata": {},
   "source": [
    "There are no costs at this point, a feasibility study is triggered and a quote will be made available in one to three business days depending on the complexity of the order. You are charged and the order is activated only after you have accepted the quote that will be made available to you."
   ]
  },
  {
   "cell_type": "code",
   "execution_count": 19,
   "id": "9f834f18-c6b9-43d6-a7b4-1b24aebe9842",
   "metadata": {},
   "outputs": [
    {
     "name": "stderr",
     "output_type": "stream",
     "text": [
      "2023-05-10 16:36:41,427 - Order is PLACED\n",
      "2023-05-10 16:36:41,429 - Order 61ca0745-5895-4df0-87bd-364fe5b4f334 is now PLACED.\n"
     ]
    },
    {
     "data": {
      "text/plain": [
       "Order(order_id: 61ca0745-5895-4df0-87bd-364fe5b4f334, assets: [], dataProvider: None, status: PLACED, createdAt: 2023-05-10T20:36:40.311928Z, updatedAt: 2023-05-10T20:36:40.311928Z)"
      ]
     },
     "execution_count": 19,
     "metadata": {},
     "output_type": "execute_result"
    }
   ],
   "source": [
    "order = tasking.place_order(params_build)\n",
    "order"
   ]
  },
  {
   "cell_type": "markdown",
   "id": "a3405db2-4618-43e8-b6ae-3c2af17829be",
   "metadata": {},
   "source": [
    "Happy tasking!!\n",
    "\n",
    "If you have comments or questions please reach out to alex.bishop@up42.com"
   ]
  },
  {
   "cell_type": "markdown",
   "id": "523de1ba-7438-4f76-84c4-ab65e17024c4",
   "metadata": {},
   "source": [
    "Documentation\n",
    "\n",
    "\n",
    "https://docs.up42.com/data\n",
    "\n",
    "https://docs.up42.com/developers/api#tag/credit-packages/operation/getCreditPack\n",
    "\n",
    "https://sdk.up42.com/"
   ]
  },
  {
   "cell_type": "code",
   "execution_count": null,
   "id": "58833c1e-4398-404c-a1cf-28472c844e3b",
   "metadata": {},
   "outputs": [],
   "source": []
  }
 ],
 "metadata": {
  "kernelspec": {
   "display_name": "Python 3 (ipykernel)",
   "language": "python",
   "name": "python3"
  },
  "language_info": {
   "codemirror_mode": {
    "name": "ipython",
    "version": 3
   },
   "file_extension": ".py",
   "mimetype": "text/x-python",
   "name": "python",
   "nbconvert_exporter": "python",
   "pygments_lexer": "ipython3",
   "version": "3.10.4"
  }
 },
 "nbformat": 4,
 "nbformat_minor": 5
}
